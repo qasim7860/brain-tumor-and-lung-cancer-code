{
  "nbformat": 4,
  "nbformat_minor": 0,
  "metadata": {
    "colab": {
      "name": "Antspy skull stripper v2.0.ipynb",
      "provenance": [],
      "collapsed_sections": [],
      "mount_file_id": "1wp1Yjmq-sppwgBmbZKJYsU4oSqahL05_",
      "authorship_tag": "ABX9TyOW0zH+eFQPGvVu/gMpwIIC",
      "include_colab_link": true
    },
    "kernelspec": {
      "name": "python3",
      "display_name": "Python 3"
    }
  },
  "cells": [
    {
      "cell_type": "markdown",
      "metadata": {
        "id": "view-in-github",
        "colab_type": "text"
      },
      "source": [
        "<a href=\"https://colab.research.google.com/github/qasim7860/brain-tumor-and-lung-cancer-code/blob/main/Antspy_skull_stripper_v2_0.ipynb\" target=\"_parent\"><img src=\"https://colab.research.google.com/assets/colab-badge.svg\" alt=\"Open In Colab\"/></a>"
      ]
    },
    {
      "cell_type": "code",
      "metadata": {
        "id": "VpB1HpMBNK-e",
        "colab": {
          "base_uri": "https://localhost:8080/",
          "height": 35
        },
        "outputId": "3b3c5723-7d81-4ae1-941f-90e5f64d45df"
      },
      "source": [
        "cd ~"
      ],
      "execution_count": null,
      "outputs": [
        {
          "output_type": "stream",
          "text": [
            "/root\n"
          ],
          "name": "stdout"
        }
      ]
    },
    {
      "cell_type": "code",
      "metadata": {
        "id": "61Qv4I19NeU6",
        "colab": {
          "base_uri": "https://localhost:8080/",
          "height": 819
        },
        "outputId": "a055c5e1-09cf-4bd6-9bb8-c1a4126ef6b6"
      },
      "source": [
        "!pip install antspyx\n",
        "!pip install medpy\n",
        "!pip install SimpleITK\n",
        "!pip install dicom2nifti "
      ],
      "execution_count": null,
      "outputs": [
        {
          "output_type": "stream",
          "text": [
            "Requirement already satisfied: antspyx in /usr/local/lib/python3.6/dist-packages (0.2.5)\n",
            "Requirement already satisfied: sklearn in /usr/local/lib/python3.6/dist-packages (from antspyx) (0.0)\n",
            "Requirement already satisfied: scikit-image in /usr/local/lib/python3.6/dist-packages (from antspyx) (0.16.2)\n",
            "Requirement already satisfied: pandas in /usr/local/lib/python3.6/dist-packages (from antspyx) (1.1.4)\n",
            "Requirement already satisfied: Pillow in /usr/local/lib/python3.6/dist-packages (from antspyx) (7.0.0)\n",
            "Requirement already satisfied: pyyaml in /usr/local/lib/python3.6/dist-packages (from antspyx) (3.13)\n",
            "Requirement already satisfied: nibabel in /usr/local/lib/python3.6/dist-packages (from antspyx) (3.0.2)\n",
            "Requirement already satisfied: webcolors in /usr/local/lib/python3.6/dist-packages (from antspyx) (1.11.1)\n",
            "Requirement already satisfied: numpy in /usr/local/lib/python3.6/dist-packages (from antspyx) (1.18.5)\n",
            "Requirement already satisfied: statsmodels in /usr/local/lib/python3.6/dist-packages (from antspyx) (0.10.2)\n",
            "Requirement already satisfied: matplotlib in /usr/local/lib/python3.6/dist-packages (from antspyx) (3.2.2)\n",
            "Requirement already satisfied: chart-studio in /usr/local/lib/python3.6/dist-packages (from antspyx) (1.1.0)\n",
            "Requirement already satisfied: scikit-learn in /usr/local/lib/python3.6/dist-packages (from antspyx) (0.22.2.post1)\n",
            "Requirement already satisfied: scipy in /usr/local/lib/python3.6/dist-packages (from antspyx) (1.4.1)\n",
            "Requirement already satisfied: imageio>=2.3.0 in /usr/local/lib/python3.6/dist-packages (from scikit-image->antspyx) (2.4.1)\n",
            "Requirement already satisfied: networkx>=2.0 in /usr/local/lib/python3.6/dist-packages (from scikit-image->antspyx) (2.5)\n",
            "Requirement already satisfied: PyWavelets>=0.4.0 in /usr/local/lib/python3.6/dist-packages (from scikit-image->antspyx) (1.1.1)\n",
            "Requirement already satisfied: python-dateutil>=2.7.3 in /usr/local/lib/python3.6/dist-packages (from pandas->antspyx) (2.8.1)\n",
            "Requirement already satisfied: pytz>=2017.2 in /usr/local/lib/python3.6/dist-packages (from pandas->antspyx) (2018.9)\n",
            "Requirement already satisfied: patsy>=0.4.0 in /usr/local/lib/python3.6/dist-packages (from statsmodels->antspyx) (0.5.1)\n",
            "Requirement already satisfied: pyparsing!=2.0.4,!=2.1.2,!=2.1.6,>=2.0.1 in /usr/local/lib/python3.6/dist-packages (from matplotlib->antspyx) (2.4.7)\n",
            "Requirement already satisfied: kiwisolver>=1.0.1 in /usr/local/lib/python3.6/dist-packages (from matplotlib->antspyx) (1.3.1)\n",
            "Requirement already satisfied: cycler>=0.10 in /usr/local/lib/python3.6/dist-packages (from matplotlib->antspyx) (0.10.0)\n",
            "Requirement already satisfied: requests in /usr/local/lib/python3.6/dist-packages (from chart-studio->antspyx) (2.23.0)\n",
            "Requirement already satisfied: six in /usr/local/lib/python3.6/dist-packages (from chart-studio->antspyx) (1.15.0)\n",
            "Requirement already satisfied: plotly in /usr/local/lib/python3.6/dist-packages (from chart-studio->antspyx) (4.4.1)\n",
            "Requirement already satisfied: retrying>=1.3.3 in /usr/local/lib/python3.6/dist-packages (from chart-studio->antspyx) (1.3.3)\n",
            "Requirement already satisfied: joblib>=0.11 in /usr/local/lib/python3.6/dist-packages (from scikit-learn->antspyx) (0.17.0)\n",
            "Requirement already satisfied: decorator>=4.3.0 in /usr/local/lib/python3.6/dist-packages (from networkx>=2.0->scikit-image->antspyx) (4.4.2)\n",
            "Requirement already satisfied: idna<3,>=2.5 in /usr/local/lib/python3.6/dist-packages (from requests->chart-studio->antspyx) (2.10)\n",
            "Requirement already satisfied: certifi>=2017.4.17 in /usr/local/lib/python3.6/dist-packages (from requests->chart-studio->antspyx) (2020.6.20)\n",
            "Requirement already satisfied: chardet<4,>=3.0.2 in /usr/local/lib/python3.6/dist-packages (from requests->chart-studio->antspyx) (3.0.4)\n",
            "Requirement already satisfied: urllib3!=1.25.0,!=1.25.1,<1.26,>=1.21.1 in /usr/local/lib/python3.6/dist-packages (from requests->chart-studio->antspyx) (1.24.3)\n",
            "Requirement already satisfied: medpy in /usr/local/lib/python3.6/dist-packages (0.4.0)\n",
            "Requirement already satisfied: numpy>=1.11.0 in /usr/local/lib/python3.6/dist-packages (from medpy) (1.18.5)\n",
            "Requirement already satisfied: scipy>=1.1.0 in /usr/local/lib/python3.6/dist-packages (from medpy) (1.4.1)\n",
            "Requirement already satisfied: SimpleITK>=1.1.0 in /usr/local/lib/python3.6/dist-packages (from medpy) (2.0.1)\n",
            "Requirement already satisfied: SimpleITK in /usr/local/lib/python3.6/dist-packages (2.0.1)\n",
            "Requirement already satisfied: dicom2nifti in /usr/local/lib/python3.6/dist-packages (2.2.10)\n",
            "Requirement already satisfied: nibabel in /usr/local/lib/python3.6/dist-packages (from dicom2nifti) (3.0.2)\n",
            "Requirement already satisfied: pydicom>=1.3.0 in /usr/local/lib/python3.6/dist-packages (from dicom2nifti) (2.1.1)\n",
            "Requirement already satisfied: scipy in /usr/local/lib/python3.6/dist-packages (from dicom2nifti) (1.4.1)\n",
            "Requirement already satisfied: numpy in /usr/local/lib/python3.6/dist-packages (from dicom2nifti) (1.18.5)\n"
          ],
          "name": "stdout"
        }
      ]
    },
    {
      "cell_type": "code",
      "metadata": {
        "id": "b52Q3ROiNtUN",
        "colab": {
          "base_uri": "https://localhost:8080/",
          "height": 110
        },
        "outputId": "e3f12ae6-8ada-4605-dff7-a75923466441"
      },
      "source": [
        "import os\n",
        "import ants\n",
        "import dicom2nifti\n",
        "import matplotlib.pyplot as plt\n",
        "from medpy.io import load,save\n",
        "import SimpleITK\n",
        "from tqdm import tqdm"
      ],
      "execution_count": null,
      "outputs": [
        {
          "output_type": "stream",
          "text": [
            "/usr/local/lib/python3.6/dist-packages/sklearn/externals/six.py:31: FutureWarning: The module is deprecated in version 0.21 and will be removed in version 0.23 since we've dropped support for Python 2.7. Please rely on the official version of six (https://pypi.org/project/six/).\n",
            "  \"(https://pypi.org/project/six/).\", FutureWarning)\n",
            "/usr/local/lib/python3.6/dist-packages/statsmodels/tools/_testing.py:19: FutureWarning: pandas.util.testing is deprecated. Use the functions in the public API at pandas.testing instead.\n",
            "  import pandas.util.testing as tm\n"
          ],
          "name": "stderr"
        }
      ]
    },
    {
      "cell_type": "markdown",
      "metadata": {
        "id": "-95TtgJ2kLAr"
      },
      "source": [
        "#dicom to nifti conversion "
      ]
    },
    {
      "cell_type": "code",
      "metadata": {
        "id": "uEvv9dgEQDQw"
      },
      "source": [
        "#dicom to nifti conversion \n",
        "def D2N(path,patient_name,mod,output_file):\n",
        "  dicom2nifti.convert_directory(path, output_file, compression=True, reorient=True)\n",
        "  print('done with : '+path)\n",
        "# +'/'+patient_name+'_'+mod+'.nii' "
      ],
      "execution_count": null,
      "outputs": []
    },
    {
      "cell_type": "code",
      "metadata": {
        "id": "l0hyC3QxQauF",
        "colab": {
          "base_uri": "https://localhost:8080/",
          "height": 35
        },
        "outputId": "120727df-dd91-48f9-daa4-3a5e486fc1fb"
      },
      "source": [
        "# Extracting paths and conversion to nifti from dicom\n",
        "data_dir ='/content/drive/My Drive/datasets/Very important Data/Anti-PD-1_MELANOMA'\n",
        "patient_list = os.listdir(data_dir)\n",
        "paths=[]\n",
        "nifti='/content/drive/My Drive/nifti melanoma'\n",
        "for patient in tqdm(patient_list):\n",
        "  # os.mkdir('/content/drive/My Drive/nifti melanoma/'+patient)\n",
        "  sub_dir= os.listdir(data_dir+'/'+patient)\n",
        "  for entry in sub_dir:\n",
        "    paths.append('/content/drive/My Drive/nifti melanoma/'+patient+'/'+entry)\n",
        "    # os.mkdir('/content/drive/My Drive/nifti melanoma/'+patient+'/'+entry)\n",
        "    # D2N(data_dir+'/'+patient+'/'+entry+'/'+'Ax T1',patient,'Ax T1','/content/drive/My Drive/nifti melanoma'+'/'+patient+'/'+entry)\n",
        "    # D2N(data_dir+'/'+patient+'/'+entry+'/'+'Ax T1 C',patient,'Ax T1 C','/content/drive/My Drive/nifti melanoma'+'/'+patient+'/'+entry)\n",
        "    # D2N(data_dir+'/'+patient+'/'+entry+'/'+'Ax T2',patient,'Ax T2','/content/drive/My Drive/nifti melanoma'+'/'+patient+'/'+entry)\n",
        "    # D2N(data_dir+'/'+patient+'/'+entry+'/'+'Ax FLAIR',patient,'Ax FLAIR','/content/drive/My Drive/nifti melanoma'+'/'+patient+'/'+entry)\n",
        "    # niftifile=os.listdir('/content/drive/My Drive/nifti melanoma/'+patient+'/'+entry)\n",
        "    # for n in niftifile:\n",
        "      # os.rename('/content/drive/My Drive/nifti melanoma/'+patient+'/'+entry+'/'+n,'/content/drive/My Drive/nifti melanoma/'+patient+'/'+entry+'/'+patient+n[1:])"
      ],
      "execution_count": null,
      "outputs": [
        {
          "output_type": "stream",
          "text": [
            "100%|██████████| 20/20 [00:00<00:00, 1503.23it/s]\n"
          ],
          "name": "stderr"
        }
      ]
    },
    {
      "cell_type": "code",
      "metadata": {
        "id": "rWWZA4yOC2b8",
        "colab": {
          "base_uri": "https://localhost:8080/",
          "height": 35
        },
        "outputId": "7f942fc3-802a-48aa-9965-051f4a9475d4"
      },
      "source": [
        "print(len(paths))"
      ],
      "execution_count": null,
      "outputs": [
        {
          "output_type": "stream",
          "text": [
            "28\n"
          ],
          "name": "stdout"
        }
      ]
    },
    {
      "cell_type": "code",
      "metadata": {
        "id": "cuxcID121hSe"
      },
      "source": [
        "def preprocessing(data):\n",
        "  out=ants.resample_image(data,(240,240,155), use_voxels=True, interp_type=1)\n",
        "  ants.set_spacing(out,[1,1,1])\n",
        "  # n4=ants.n4_bias_field_correction(out)\n",
        "  return out\n"
      ],
      "execution_count": null,
      "outputs": []
    },
    {
      "cell_type": "code",
      "metadata": {
        "id": "8hcVLrkZAQnw",
        "colab": {
          "base_uri": "https://localhost:8080/",
          "height": 526
        },
        "outputId": "ea33ae49-20f3-4a6d-80af-7199c0491ccd"
      },
      "source": [
        "i=0\n",
        "for p in paths:\n",
        "  print(p+' ',i)\n",
        "  i=i+1"
      ],
      "execution_count": null,
      "outputs": [
        {
          "output_type": "stream",
          "text": [
            "/content/drive/My Drive/nifti melanoma/PD-1-MELANOMA-00039/02-02-2007-MRI Brain WOW Contrast-39564  0\n",
            "/content/drive/My Drive/nifti melanoma/PD-1-MELANOMA-00045/01-15-2007-MRI Brain WOW Contrast-38041  1\n",
            "/content/drive/My Drive/nifti melanoma/PD-1-MELANOMA-00033/10-11-2006-MRI Brain WOW Contrast-72300  2\n",
            "/content/drive/My Drive/nifti melanoma/PD-1-MELANOMA-00033/01-24-2007-MRI Brain WOW Contrast-24507  3\n",
            "/content/drive/My Drive/nifti melanoma/PD-1-MELANOMA-00046/11-22-2006-MRI Brain WOW Contrast-57566  4\n",
            "/content/drive/My Drive/nifti melanoma/PD-1-MELANOMA-00046/02-17-2007-MRI Brain WOW Contrast-26354  5\n",
            "/content/drive/My Drive/nifti melanoma/PD-1-MELANOMA-00042/10-10-2006-MRI Brain WOW Contrast-41159  6\n",
            "/content/drive/My Drive/nifti melanoma/PD-1-MELANOMA-00032/10-15-2006-MRI Brain WOW Contrast-54851  7\n",
            "/content/drive/My Drive/nifti melanoma/PD-1-MELANOMA-00030/07-22-2006-MRI Brain WOW Contrast-28519  8\n",
            "/content/drive/My Drive/nifti melanoma/PD-1-MELANOMA-00030/12-26-2006-MRI Brain WOW Contrast-46643  9\n",
            "/content/drive/My Drive/nifti melanoma/PD-1-MELANOMA-00027/01-15-2007-MRI Brain WOW Contrast-22393  10\n",
            "/content/drive/My Drive/nifti melanoma/PD-1-MELANOMA-00034/10-21-2006-MRI Brain WOW Contrast-32620  11\n",
            "/content/drive/My Drive/nifti melanoma/PD-1-MELANOMA-00034/01-21-2007-MRI Brain WOW Contrast-53927  12\n",
            "/content/drive/My Drive/nifti melanoma/PD-1-MELANOMA-00035/10-21-2006-MRI Brain WOW Contrast-34907  13\n",
            "/content/drive/My Drive/nifti melanoma/PD-1-MELANOMA-00035/01-20-2007-MRI Brain WOW Contrast-58085  14\n",
            "/content/drive/My Drive/nifti melanoma/PD-1-MELANOMA-00001/11-25-2006-MRI Brain WOW Contrast-44188  15\n",
            "/content/drive/My Drive/nifti melanoma/PD-1-MELANOMA-00001/08-20-2006-MRI Brain WOW Contrast-88403  16\n",
            "/content/drive/My Drive/nifti melanoma/PD-1-MELANOMA-00025/09-25-2006-MRI Brain WOW Contrast-50777  17\n",
            "/content/drive/My Drive/nifti melanoma/PD-1-MELANOMA-00006/07-25-2006-MRI Brain WOW Contrast-09049  18\n",
            "/content/drive/My Drive/nifti melanoma/PD-1-MELANOMA-00013/01-27-2007-MRI Brain WOW Contrast-21864  19\n",
            "/content/drive/My Drive/nifti melanoma/PD-1-MELANOMA-00013/08-19-2006-MRI Brain WOW Contrast-53840  20\n",
            "/content/drive/My Drive/nifti melanoma/PD-1-MELANOMA-00011/08-26-2006-MRI Brain WOW Contrast-58401  21\n",
            "/content/drive/My Drive/nifti melanoma/PD-1-MELANOMA-00003/08-06-2006-MRI Brain WOW Contrast-04206  22\n",
            "/content/drive/My Drive/nifti melanoma/PD-1-MELANOMA-00009/07-29-2006-MRI Brain WOW Contrast-48321  23\n",
            "/content/drive/My Drive/nifti melanoma/PD-1-MELANOMA-00019/09-04-2006-MRI Brain WOW Contrast-63248  24\n",
            "/content/drive/My Drive/nifti melanoma/PD-1-MELANOMA-00021/12-25-2006-MRI Brain WOW Contrast-92435  25\n",
            "/content/drive/My Drive/nifti melanoma/PD-1-MELANOMA-00002/11-27-2006-MRI Brain WOW Contrast-15143  26\n",
            "/content/drive/My Drive/nifti melanoma/PD-1-MELANOMA-00002/08-20-2006-MRI Brain WOW Contrast-71508  27\n"
          ],
          "name": "stdout"
        }
      ]
    },
    {
      "cell_type": "code",
      "metadata": {
        "id": "aVzMCVik_g5n",
        "colab": {
          "base_uri": "https://localhost:8080/",
          "height": 1000
        },
        "outputId": "9b1235d1-59f3-4387-a644-b5cd2f343dcf"
      },
      "source": [
        "for i in tqdm(range(24,len(paths))):\n",
        "  p=os.listdir(paths[i])\n",
        "  for x in p:\n",
        "    f=ants.image_read(paths[i]+'/'+x)\n",
        "    print(f)\n",
        "    out=preprocessing(f)\n",
        "    print(out)\n",
        "    print('saving....')\n",
        "    ants.image_write(out, paths[i]+'/Resampled_'+x, ri=False)\n",
        "    print('saved to:'+ paths[i]+'/'+x)"
      ],
      "execution_count": null,
      "outputs": [
        {
          "output_type": "stream",
          "text": [
            "\r  0%|          | 0/4 [00:00<?, ?it/s]"
          ],
          "name": "stderr"
        },
        {
          "output_type": "stream",
          "text": [
            "ANTsImage (RPI)\n",
            "\t Pixel Type : float (float32)\n",
            "\t Components : 1\n",
            "\t Dimensions : (256, 256, 30)\n",
            "\t Spacing    : (0.8594, 0.8594, 6.5)\n",
            "\t Origin     : (-111.3632, 85.2023, -96.4352)\n",
            "\t Direction  : [ 9.994e-01  3.440e-02 -1.000e-04  3.440e-02 -9.994e-01  4.100e-03\n",
            "  0.000e+00  4.100e-03  1.000e+00]\n",
            "\n",
            "ANTsImage (RPI)\n",
            "\t Pixel Type : float (float32)\n",
            "\t Components : 1\n",
            "\t Dimensions : (240, 240, 155)\n",
            "\t Spacing    : (1.0, 1.0, 1.0)\n",
            "\t Origin     : (-111.3632, 85.2023, -96.4352)\n",
            "\t Direction  : [ 9.994e-01  3.440e-02 -1.000e-04  3.440e-02 -9.994e-01  4.100e-03\n",
            "  0.000e+00  4.100e-03  1.000e+00]\n",
            "\n",
            "saving....\n",
            "saved to:/content/drive/My Drive/nifti melanoma/PD-1-MELANOMA-00019/09-04-2006-MRI Brain WOW Contrast-63248/PD-1-MELANOMA-00019_ax_t1.nii.gz\n",
            "ANTsImage (RPI)\n",
            "\t Pixel Type : float (float32)\n",
            "\t Components : 1\n",
            "\t Dimensions : (256, 256, 30)\n",
            "\t Spacing    : (0.8594, 0.8594, 6.5)\n",
            "\t Origin     : (-111.3632, 85.2023, -96.4352)\n",
            "\t Direction  : [ 9.994e-01  3.440e-02 -1.000e-04  3.440e-02 -9.994e-01  4.100e-03\n",
            "  0.000e+00  4.100e-03  1.000e+00]\n",
            "\n",
            "ANTsImage (RPI)\n",
            "\t Pixel Type : float (float32)\n",
            "\t Components : 1\n",
            "\t Dimensions : (240, 240, 155)\n",
            "\t Spacing    : (1.0, 1.0, 1.0)\n",
            "\t Origin     : (-111.3632, 85.2023, -96.4352)\n",
            "\t Direction  : [ 9.994e-01  3.440e-02 -1.000e-04  3.440e-02 -9.994e-01  4.100e-03\n",
            "  0.000e+00  4.100e-03  1.000e+00]\n",
            "\n",
            "saving....\n",
            "saved to:/content/drive/My Drive/nifti melanoma/PD-1-MELANOMA-00019/09-04-2006-MRI Brain WOW Contrast-63248/PD-1-MELANOMA-00019_ax_t1_c_fs.nii.gz\n",
            "ANTsImage (RPI)\n",
            "\t Pixel Type : float (float32)\n",
            "\t Components : 1\n",
            "\t Dimensions : (512, 512, 30)\n",
            "\t Spacing    : (0.4297, 0.4297, 6.5)\n",
            "\t Origin     : (-111.585, 85.4097, -96.4361)\n",
            "\t Direction  : [ 9.994e-01  3.440e-02 -1.000e-04  3.440e-02 -9.994e-01  4.100e-03\n",
            "  0.000e+00  4.100e-03  1.000e+00]\n",
            "\n",
            "ANTsImage (RPI)\n",
            "\t Pixel Type : float (float32)\n",
            "\t Components : 1\n",
            "\t Dimensions : (240, 240, 155)\n",
            "\t Spacing    : (1.0, 1.0, 1.0)\n",
            "\t Origin     : (-111.585, 85.4097, -96.4361)\n",
            "\t Direction  : [ 9.994e-01  3.440e-02 -1.000e-04  3.440e-02 -9.994e-01  4.100e-03\n",
            "  0.000e+00  4.100e-03  1.000e+00]\n",
            "\n",
            "saving....\n",
            "saved to:/content/drive/My Drive/nifti melanoma/PD-1-MELANOMA-00019/09-04-2006-MRI Brain WOW Contrast-63248/PD-1-MELANOMA-00019_ax_t2.nii.gz\n",
            "ANTsImage (RPI)\n",
            "\t Pixel Type : float (float32)\n",
            "\t Components : 1\n",
            "\t Dimensions : (256, 256, 30)\n",
            "\t Spacing    : (0.8594, 0.8594, 6.5)\n",
            "\t Origin     : (-111.3632, 85.2023, -96.4352)\n",
            "\t Direction  : [ 9.994e-01  3.440e-02 -1.000e-04  3.440e-02 -9.994e-01  4.100e-03\n",
            "  0.000e+00  4.100e-03  1.000e+00]\n",
            "\n"
          ],
          "name": "stdout"
        },
        {
          "output_type": "stream",
          "text": [
            "\r 25%|██▌       | 1/4 [00:37<01:51, 37.29s/it]"
          ],
          "name": "stderr"
        },
        {
          "output_type": "stream",
          "text": [
            "ANTsImage (RPI)\n",
            "\t Pixel Type : float (float32)\n",
            "\t Components : 1\n",
            "\t Dimensions : (240, 240, 155)\n",
            "\t Spacing    : (1.0, 1.0, 1.0)\n",
            "\t Origin     : (-111.3632, 85.2023, -96.4352)\n",
            "\t Direction  : [ 9.994e-01  3.440e-02 -1.000e-04  3.440e-02 -9.994e-01  4.100e-03\n",
            "  0.000e+00  4.100e-03  1.000e+00]\n",
            "\n",
            "saving....\n",
            "saved to:/content/drive/My Drive/nifti melanoma/PD-1-MELANOMA-00019/09-04-2006-MRI Brain WOW Contrast-63248/PD-1-MELANOMA-00019_ax_flair.nii.gz\n",
            "ANTsImage (RPI)\n",
            "\t Pixel Type : float (float32)\n",
            "\t Components : 1\n",
            "\t Dimensions : (256, 256, 26)\n",
            "\t Spacing    : (0.8594, 0.8594, 6.5)\n",
            "\t Origin     : (-118.7669, 86.4336, -51.5303)\n",
            "\t Direction  : [ 9.999e-01 -6.000e-04  1.360e-02  2.000e-04 -9.986e-01 -5.250e-02\n",
            " -1.360e-02 -5.250e-02  9.985e-01]\n",
            "\n",
            "ANTsImage (RPI)\n",
            "\t Pixel Type : float (float32)\n",
            "\t Components : 1\n",
            "\t Dimensions : (240, 240, 155)\n",
            "\t Spacing    : (1.0, 1.0, 1.0)\n",
            "\t Origin     : (-118.7669, 86.4336, -51.5303)\n",
            "\t Direction  : [ 9.999e-01 -6.000e-04  1.360e-02  2.000e-04 -9.986e-01 -5.250e-02\n",
            " -1.360e-02 -5.250e-02  9.985e-01]\n",
            "\n",
            "saving....\n",
            "saved to:/content/drive/My Drive/nifti melanoma/PD-1-MELANOMA-00021/12-25-2006-MRI Brain WOW Contrast-92435/PD-1-MELANOMA-00021_ax_t1.nii.gz\n",
            "ANTsImage (RPI)\n",
            "\t Pixel Type : float (float32)\n",
            "\t Components : 1\n",
            "\t Dimensions : (512, 512, 26)\n",
            "\t Spacing    : (0.4297, 0.4297, 6.5)\n",
            "\t Origin     : (-118.9817, 86.6477, -51.5161)\n",
            "\t Direction  : [ 9.999e-01 -6.000e-04  1.360e-02  2.000e-04 -9.986e-01 -5.250e-02\n",
            " -1.360e-02 -5.250e-02  9.985e-01]\n",
            "\n",
            "ANTsImage (RPI)\n",
            "\t Pixel Type : float (float32)\n",
            "\t Components : 1\n",
            "\t Dimensions : (240, 240, 155)\n",
            "\t Spacing    : (1.0, 1.0, 1.0)\n",
            "\t Origin     : (-118.9817, 86.6477, -51.5161)\n",
            "\t Direction  : [ 9.999e-01 -6.000e-04  1.360e-02  2.000e-04 -9.986e-01 -5.250e-02\n",
            " -1.360e-02 -5.250e-02  9.985e-01]\n",
            "\n",
            "saving....\n",
            "saved to:/content/drive/My Drive/nifti melanoma/PD-1-MELANOMA-00021/12-25-2006-MRI Brain WOW Contrast-92435/PD-1-MELANOMA-00021_ax_t2.nii.gz\n",
            "ANTsImage (RPI)\n",
            "\t Pixel Type : float (float32)\n",
            "\t Components : 1\n",
            "\t Dimensions : (256, 256, 26)\n",
            "\t Spacing    : (0.8594, 0.8594, 6.5)\n",
            "\t Origin     : (-118.7669, 86.4336, -51.5303)\n",
            "\t Direction  : [ 9.999e-01 -6.000e-04  1.360e-02  2.000e-04 -9.986e-01 -5.250e-02\n",
            " -1.360e-02 -5.250e-02  9.985e-01]\n",
            "\n",
            "ANTsImage (RPI)\n",
            "\t Pixel Type : float (float32)\n",
            "\t Components : 1\n",
            "\t Dimensions : (240, 240, 155)\n",
            "\t Spacing    : (1.0, 1.0, 1.0)\n",
            "\t Origin     : (-118.7669, 86.4336, -51.5303)\n",
            "\t Direction  : [ 9.999e-01 -6.000e-04  1.360e-02  2.000e-04 -9.986e-01 -5.250e-02\n",
            " -1.360e-02 -5.250e-02  9.985e-01]\n",
            "\n",
            "saving....\n",
            "saved to:/content/drive/My Drive/nifti melanoma/PD-1-MELANOMA-00021/12-25-2006-MRI Brain WOW Contrast-92435/PD-1-MELANOMA-00021_ax_flair.nii.gz\n",
            "ANTsImage (RPI)\n",
            "\t Pixel Type : float (float32)\n",
            "\t Components : 1\n",
            "\t Dimensions : (256, 256, 26)\n",
            "\t Spacing    : (0.8594, 0.8594, 6.5)\n",
            "\t Origin     : (-118.7669, 86.4336, -51.5303)\n",
            "\t Direction  : [ 9.999e-01 -6.000e-04  1.360e-02  2.000e-04 -9.986e-01 -5.250e-02\n",
            " -1.360e-02 -5.250e-02  9.985e-01]\n",
            "\n",
            "ANTsImage (RPI)\n",
            "\t Pixel Type : float (float32)\n",
            "\t Components : 1\n",
            "\t Dimensions : (240, 240, 155)\n",
            "\t Spacing    : (1.0, 1.0, 1.0)\n",
            "\t Origin     : (-118.7669, 86.4336, -51.5303)\n",
            "\t Direction  : [ 9.999e-01 -6.000e-04  1.360e-02  2.000e-04 -9.986e-01 -5.250e-02\n",
            " -1.360e-02 -5.250e-02  9.985e-01]\n",
            "\n",
            "saving....\n"
          ],
          "name": "stdout"
        },
        {
          "output_type": "stream",
          "text": [
            "\r 50%|█████     | 2/4 [01:15<01:15, 37.51s/it]"
          ],
          "name": "stderr"
        },
        {
          "output_type": "stream",
          "text": [
            "saved to:/content/drive/My Drive/nifti melanoma/PD-1-MELANOMA-00021/12-25-2006-MRI Brain WOW Contrast-92435/PD-1-MELANOMA-00021_ax_t1_c_fs.nii.gz\n",
            "ANTsImage (RPI)\n",
            "\t Pixel Type : float (float32)\n",
            "\t Components : 1\n",
            "\t Dimensions : (256, 256, 24)\n",
            "\t Spacing    : (0.8594, 0.8594, 6.5)\n",
            "\t Origin     : (-119.6053, 67.5403, -77.8627)\n",
            "\t Direction  : [ 0.9971  0.0758 -0.0072  0.0761 -0.9926  0.0949  0.      0.0952  0.9955]\n",
            "\n",
            "ANTsImage (RPI)\n",
            "\t Pixel Type : float (float32)\n",
            "\t Components : 1\n",
            "\t Dimensions : (240, 240, 155)\n",
            "\t Spacing    : (1.0, 1.0, 1.0)\n",
            "\t Origin     : (-119.6053, 67.5403, -77.8627)\n",
            "\t Direction  : [ 0.9971  0.0758 -0.0072  0.0761 -0.9926  0.0949  0.      0.0952  0.9955]\n",
            "\n",
            "saving....\n",
            "saved to:/content/drive/My Drive/nifti melanoma/PD-1-MELANOMA-00002/11-27-2006-MRI Brain WOW Contrast-15143/PD-1-MELANOMA-00002_ax_t1.nii.gz\n",
            "ANTsImage (RPI)\n",
            "\t Pixel Type : float (float32)\n",
            "\t Components : 1\n",
            "\t Dimensions : (256, 256, 24)\n",
            "\t Spacing    : (0.8594, 0.8594, 6.5)\n",
            "\t Origin     : (-119.6053, 67.5403, -77.8627)\n",
            "\t Direction  : [ 0.9971  0.0758 -0.0072  0.0761 -0.9926  0.0949  0.      0.0952  0.9955]\n",
            "\n",
            "ANTsImage (RPI)\n",
            "\t Pixel Type : float (float32)\n",
            "\t Components : 1\n",
            "\t Dimensions : (240, 240, 155)\n",
            "\t Spacing    : (1.0, 1.0, 1.0)\n",
            "\t Origin     : (-119.6053, 67.5403, -77.8627)\n",
            "\t Direction  : [ 0.9971  0.0758 -0.0072  0.0761 -0.9926  0.0949  0.      0.0952  0.9955]\n",
            "\n",
            "saving....\n",
            "saved to:/content/drive/My Drive/nifti melanoma/PD-1-MELANOMA-00002/11-27-2006-MRI Brain WOW Contrast-15143/PD-1-MELANOMA-00002_ax_t1_c.nii.gz\n",
            "ANTsImage (RPI)\n",
            "\t Pixel Type : float (float32)\n",
            "\t Components : 1\n",
            "\t Dimensions : (256, 256, 24)\n",
            "\t Spacing    : (0.8594, 0.8594, 6.5)\n",
            "\t Origin     : (-119.6053, 67.5403, -77.8627)\n",
            "\t Direction  : [ 0.9971  0.0758 -0.0072  0.0761 -0.9926  0.0949  0.      0.0952  0.9955]\n",
            "\n",
            "ANTsImage (RPI)\n",
            "\t Pixel Type : float (float32)\n",
            "\t Components : 1\n",
            "\t Dimensions : (240, 240, 155)\n",
            "\t Spacing    : (1.0, 1.0, 1.0)\n",
            "\t Origin     : (-119.6053, 67.5403, -77.8627)\n",
            "\t Direction  : [ 0.9971  0.0758 -0.0072  0.0761 -0.9926  0.0949  0.      0.0952  0.9955]\n",
            "\n",
            "saving....\n",
            "saved to:/content/drive/My Drive/nifti melanoma/PD-1-MELANOMA-00002/11-27-2006-MRI Brain WOW Contrast-15143/PD-1-MELANOMA-00002_ax_flair.nii.gz\n",
            "ANTsImage (RPI)\n",
            "\t Pixel Type : float (float32)\n",
            "\t Components : 1\n",
            "\t Dimensions : (512, 512, 24)\n",
            "\t Spacing    : (0.4297, 0.4297, 6.5)\n",
            "\t Origin     : (-119.8359, 67.7368, -77.8831)\n",
            "\t Direction  : [ 0.9971  0.0758 -0.0072  0.0761 -0.9926  0.0949  0.      0.0952  0.9955]\n",
            "\n",
            "ANTsImage (RPI)\n",
            "\t Pixel Type : float (float32)\n",
            "\t Components : 1\n",
            "\t Dimensions : (240, 240, 155)\n",
            "\t Spacing    : (1.0, 1.0, 1.0)\n",
            "\t Origin     : (-119.8359, 67.7368, -77.8831)\n",
            "\t Direction  : [ 0.9971  0.0758 -0.0072  0.0761 -0.9926  0.0949  0.      0.0952  0.9955]\n",
            "\n",
            "saving....\n"
          ],
          "name": "stdout"
        }
      ]
    },
    {
      "cell_type": "code",
      "metadata": {
        "id": "n_UfzQCISis2",
        "colab": {
          "base_uri": "https://localhost:8080/",
          "height": 1000
        },
        "outputId": "27f26e86-1ad3-4e3b-dfa5-44b3ddb94166"
      },
      "source": [
        "# Extracting paths and conversion to nifti from dicom\n",
        "data_dir ='/content/drive/My Drive/datasets/Very important Data/Anti-PD-1_MELANOMA'\n",
        "atlas_path='/content/drive/My Drive/datasets/atlas_t1.nii' \n",
        "atlas_mask_path='/content/drive/My Drive/datasets/atlas_mask.nii'\n",
        "mask=ants.image_read(atlas_mask_path)\n",
        "moving=ants.image_read(atlas_path)\n",
        "patient_list = os.listdir(data_dir)\n",
        "nifti='/content/drive/My Drive/nifti melanoma'\n",
        "for patient in tqdm(patient_list):\n",
        "  sub_dir= os.listdir(data_dir+'/'+patient)\n",
        "  for date in sub_dir:\n",
        "    # os.mkdir('/content/drive/My Drive/nifti melanoma/'+patient+'/'+date+'/stripped data')\n",
        "    # strip_path='/content/drive/My Drive/nifti melanoma/'+patient+'/'+date+'/stripped data'\n",
        "    niftifile=os.listdir('/content/drive/My Drive/nifti melanoma/'+patient+'/'+date)\n",
        "    \n",
        "    # for n in niftifile:\n",
        "    #   f=ants.image_read('/content/drive/My Drive/nifti melanoma/'+patient+'/'+date+'/'+n)\n",
        "    #   print(f)\n",
        "    #   out=preprocessing(f)\n",
        "    #   print(out)\n",
        "    #   print('saving....')\n",
        "    #   ants.image_write(out, '/content/drive/My Drive/nifti melanoma/'+patient+'/'+date+'/Resampled_'+n, ri=False)\n",
        "    #   print('saved to: /content/drive/My Drive/nifti melanoma/'+patient+'/'+date+'/Resampled_'+n)\n",
        "    \n",
        "    # print('idhr hu')\n",
        "    t1_path='/content/drive/My Drive/nifti melanoma/'+patient+'/'+date+'/Resampled_'+patient+'_ax_t1.nii.gz'\n",
        "    fixed= ants.image_read(t1_path)\n",
        "    print('applying registration')\n",
        "    mytx = ants.registration(fixed=fixed , moving=moving ,type_of_transform = 'SyN' )\n",
        "    masks = ants.apply_transforms( fixed=fixed, moving=mask,transformlist=mytx['fwdtransforms'] )\n",
        "    ants.image_write(masks,'/content/drive/My Drive/nifti melanoma/'+patient+'/'+date+'/mask.nii',ri=False)\n",
        "    m,head=load('/content/drive/My Drive/nifti melanoma/'+patient+'/'+date+'/mask.nii')\n",
        "    print('done registration and mask extraction of: ',patient)\n",
        "    print('making directory')\n",
        "    os.mkdir('/content/drive/My Drive/nifti melanoma/'+patient+'/'+date+'/stripped data')\n",
        "    strip_path='/content/drive/My Drive/nifti melanoma/'+patient+'/'+date+'/stripped data'\n",
        "\n",
        "    m=m.astype(bool)\n",
        "    for n in niftifile:\n",
        "      x='Resampled_'+patient\n",
        "      if x in n: \n",
        "        mod,mod_head=load('/content/drive/My Drive/nifti melanoma/'+patient+'/'+date+'/'+n)\n",
        "        mod[~m]=0\n",
        "        save(mod,strip_path+'/'+n,mod_head)\n",
        "    print('done saving stripped volume of',patient)    \n",
        "      \n"
      ],
      "execution_count": null,
      "outputs": [
        {
          "output_type": "stream",
          "text": [
            "\n",
            "  0%|          | 0/20 [00:00<?, ?it/s]\u001b[A"
          ],
          "name": "stderr"
        },
        {
          "output_type": "stream",
          "text": [
            "applying registration\n",
            "done registration and mask extraction of:  PD-1-MELANOMA-00039\n",
            "making directory\n"
          ],
          "name": "stdout"
        },
        {
          "output_type": "stream",
          "text": [
            "\n",
            "  5%|▌         | 1/20 [03:48<1:12:28, 228.87s/it]\u001b[A"
          ],
          "name": "stderr"
        },
        {
          "output_type": "stream",
          "text": [
            "done saving stripped volume of PD-1-MELANOMA-00039\n",
            "applying registration\n",
            "done registration and mask extraction of:  PD-1-MELANOMA-00045\n",
            "making directory\n"
          ],
          "name": "stdout"
        },
        {
          "output_type": "stream",
          "text": [
            "\n",
            " 10%|█         | 2/20 [07:56<1:10:21, 234.52s/it]\u001b[A"
          ],
          "name": "stderr"
        },
        {
          "output_type": "stream",
          "text": [
            "done saving stripped volume of PD-1-MELANOMA-00045\n",
            "applying registration\n",
            "done registration and mask extraction of:  PD-1-MELANOMA-00033\n",
            "making directory\n",
            "done saving stripped volume of PD-1-MELANOMA-00033\n",
            "applying registration\n",
            "done registration and mask extraction of:  PD-1-MELANOMA-00033\n",
            "making directory\n"
          ],
          "name": "stdout"
        },
        {
          "output_type": "stream",
          "text": [
            "\n",
            " 15%|█▌        | 3/20 [16:15<1:28:53, 313.72s/it]\u001b[A"
          ],
          "name": "stderr"
        },
        {
          "output_type": "stream",
          "text": [
            "done saving stripped volume of PD-1-MELANOMA-00033\n",
            "applying registration\n",
            "done registration and mask extraction of:  PD-1-MELANOMA-00046\n",
            "making directory\n",
            "done saving stripped volume of PD-1-MELANOMA-00046\n",
            "applying registration\n",
            "done registration and mask extraction of:  PD-1-MELANOMA-00046\n",
            "making directory\n"
          ],
          "name": "stdout"
        },
        {
          "output_type": "stream",
          "text": [
            "\n",
            " 20%|██        | 4/20 [24:27<1:37:56, 367.28s/it]\u001b[A"
          ],
          "name": "stderr"
        },
        {
          "output_type": "stream",
          "text": [
            "done saving stripped volume of PD-1-MELANOMA-00046\n",
            "applying registration\n",
            "done registration and mask extraction of:  PD-1-MELANOMA-00042\n",
            "making directory\n"
          ],
          "name": "stdout"
        },
        {
          "output_type": "stream",
          "text": [
            "\n",
            " 25%|██▌       | 5/20 [28:23<1:21:57, 327.84s/it]\u001b[A"
          ],
          "name": "stderr"
        },
        {
          "output_type": "stream",
          "text": [
            "done saving stripped volume of PD-1-MELANOMA-00042\n",
            "applying registration\n",
            "done registration and mask extraction of:  PD-1-MELANOMA-00032\n",
            "making directory\n"
          ],
          "name": "stdout"
        },
        {
          "output_type": "stream",
          "text": [
            "\n",
            " 30%|███       | 6/20 [32:11<1:09:30, 297.89s/it]\u001b[A"
          ],
          "name": "stderr"
        },
        {
          "output_type": "stream",
          "text": [
            "done saving stripped volume of PD-1-MELANOMA-00032\n",
            "applying registration\n",
            "done registration and mask extraction of:  PD-1-MELANOMA-00030\n",
            "making directory\n",
            "done saving stripped volume of PD-1-MELANOMA-00030\n"
          ],
          "name": "stdout"
        },
        {
          "output_type": "error",
          "ename": "ValueError",
          "evalue": "ignored",
          "traceback": [
            "\u001b[0;31m---------------------------------------------------------------------------\u001b[0m",
            "\u001b[0;31mValueError\u001b[0m                                Traceback (most recent call last)",
            "\u001b[0;32m<ipython-input-4-f28f4a0fe404>\u001b[0m in \u001b[0;36m<module>\u001b[0;34m()\u001b[0m\n\u001b[1;32m     25\u001b[0m     \u001b[0;31m# print('idhr hu')\u001b[0m\u001b[0;34m\u001b[0m\u001b[0;34m\u001b[0m\u001b[0;34m\u001b[0m\u001b[0m\n\u001b[1;32m     26\u001b[0m     \u001b[0mt1_path\u001b[0m\u001b[0;34m=\u001b[0m\u001b[0;34m'/content/drive/My Drive/nifti melanoma/'\u001b[0m\u001b[0;34m+\u001b[0m\u001b[0mpatient\u001b[0m\u001b[0;34m+\u001b[0m\u001b[0;34m'/'\u001b[0m\u001b[0;34m+\u001b[0m\u001b[0mdate\u001b[0m\u001b[0;34m+\u001b[0m\u001b[0;34m'/Resampled_'\u001b[0m\u001b[0;34m+\u001b[0m\u001b[0mpatient\u001b[0m\u001b[0;34m+\u001b[0m\u001b[0;34m'_ax_t1.nii.gz'\u001b[0m\u001b[0;34m\u001b[0m\u001b[0;34m\u001b[0m\u001b[0m\n\u001b[0;32m---> 27\u001b[0;31m     \u001b[0mfixed\u001b[0m\u001b[0;34m=\u001b[0m \u001b[0mants\u001b[0m\u001b[0;34m.\u001b[0m\u001b[0mimage_read\u001b[0m\u001b[0;34m(\u001b[0m\u001b[0mt1_path\u001b[0m\u001b[0;34m)\u001b[0m\u001b[0;34m\u001b[0m\u001b[0;34m\u001b[0m\u001b[0m\n\u001b[0m\u001b[1;32m     28\u001b[0m     \u001b[0mprint\u001b[0m\u001b[0;34m(\u001b[0m\u001b[0;34m'applying registration'\u001b[0m\u001b[0;34m)\u001b[0m\u001b[0;34m\u001b[0m\u001b[0;34m\u001b[0m\u001b[0m\n\u001b[1;32m     29\u001b[0m     \u001b[0mmytx\u001b[0m \u001b[0;34m=\u001b[0m \u001b[0mants\u001b[0m\u001b[0;34m.\u001b[0m\u001b[0mregistration\u001b[0m\u001b[0;34m(\u001b[0m\u001b[0mfixed\u001b[0m\u001b[0;34m=\u001b[0m\u001b[0mfixed\u001b[0m \u001b[0;34m,\u001b[0m \u001b[0mmoving\u001b[0m\u001b[0;34m=\u001b[0m\u001b[0mmoving\u001b[0m \u001b[0;34m,\u001b[0m\u001b[0mtype_of_transform\u001b[0m \u001b[0;34m=\u001b[0m \u001b[0;34m'SyN'\u001b[0m \u001b[0;34m)\u001b[0m\u001b[0;34m\u001b[0m\u001b[0;34m\u001b[0m\u001b[0m\n",
            "\u001b[0;32m/usr/local/lib/python3.6/dist-packages/ants/core/ants_image_io.py\u001b[0m in \u001b[0;36mimage_read\u001b[0;34m(filename, dimension, pixeltype, reorient)\u001b[0m\n\u001b[1;32m    473\u001b[0m         \u001b[0mfilename\u001b[0m \u001b[0;34m=\u001b[0m \u001b[0mos\u001b[0m\u001b[0;34m.\u001b[0m\u001b[0mpath\u001b[0m\u001b[0;34m.\u001b[0m\u001b[0mexpanduser\u001b[0m\u001b[0;34m(\u001b[0m\u001b[0mfilename\u001b[0m\u001b[0;34m)\u001b[0m\u001b[0;34m\u001b[0m\u001b[0;34m\u001b[0m\u001b[0m\n\u001b[1;32m    474\u001b[0m         \u001b[0;32mif\u001b[0m \u001b[0;32mnot\u001b[0m \u001b[0mos\u001b[0m\u001b[0;34m.\u001b[0m\u001b[0mpath\u001b[0m\u001b[0;34m.\u001b[0m\u001b[0mexists\u001b[0m\u001b[0;34m(\u001b[0m\u001b[0mfilename\u001b[0m\u001b[0;34m)\u001b[0m\u001b[0;34m:\u001b[0m\u001b[0;34m\u001b[0m\u001b[0;34m\u001b[0m\u001b[0m\n\u001b[0;32m--> 475\u001b[0;31m             \u001b[0;32mraise\u001b[0m \u001b[0mValueError\u001b[0m\u001b[0;34m(\u001b[0m\u001b[0;34m'File %s does not exist!'\u001b[0m \u001b[0;34m%\u001b[0m \u001b[0mfilename\u001b[0m\u001b[0;34m)\u001b[0m\u001b[0;34m\u001b[0m\u001b[0;34m\u001b[0m\u001b[0m\n\u001b[0m\u001b[1;32m    476\u001b[0m \u001b[0;34m\u001b[0m\u001b[0m\n\u001b[1;32m    477\u001b[0m         \u001b[0mhinfo\u001b[0m \u001b[0;34m=\u001b[0m \u001b[0mimage_header_info\u001b[0m\u001b[0;34m(\u001b[0m\u001b[0mfilename\u001b[0m\u001b[0;34m)\u001b[0m\u001b[0;34m\u001b[0m\u001b[0;34m\u001b[0m\u001b[0m\n",
            "\u001b[0;31mValueError\u001b[0m: File /content/drive/My Drive/nifti melanoma/PD-1-MELANOMA-00030/12-26-2006-MRI Brain WOW Contrast-46643/Resampled_PD-1-MELANOMA-00030_ax_t1.nii.gz does not exist!"
          ]
        }
      ]
    },
    {
      "cell_type": "code",
      "metadata": {
        "id": "7Eyg6EeYiHzf"
      },
      "source": [
        "from google.colab import drive\n",
        "drive.mount('/content/drive')"
      ],
      "execution_count": null,
      "outputs": []
    },
    {
      "cell_type": "code",
      "metadata": {
        "id": "McjEvS-jVv6b"
      },
      "source": [
        ""
      ],
      "execution_count": null,
      "outputs": []
    },
    {
      "cell_type": "code",
      "metadata": {
        "id": "sZhTmF2mOQAc",
        "colab": {
          "base_uri": "https://localhost:8080/",
          "height": 508
        },
        "outputId": "9cb1ff61-3220-4ade-e608-000152046ce5"
      },
      "source": [
        "from tqdm import tqdm\n",
        "import ants\n",
        "data_path='/content/drive/My Drive/library_NFBS/NFBS/stx/1mm'\n",
        "atlas_path='/content/drive/My Drive/datasets/atlas_t1.nii'\n",
        "atlas_mask_path='/content/drive/My Drive/datasets/atlas_mask.nii'\n",
        "mask=ants.image_read(atlas_mask_path)\n",
        "moving=ants.image_read(atlas_path)\n",
        "zeros='0000'\n",
        "for i in tqdm(range(100,125)):\n",
        "  if i>9:\n",
        "    zeros='000'\n",
        "  if i>99:\n",
        "    zeros='00'\n",
        "  fixed=ants.image_read(data_path+'/'+zeros+str(i)+'.mnc')\n",
        "  mytx = ants.registration(fixed=fixed , moving=moving ,type_of_transform = 'SyN' )\n",
        "  masks = ants.apply_transforms( fixed=fixed, moving=mask,transformlist=mytx['fwdtransforms'] )\n",
        "  ants.image_write(masks, '/content/drive/My Drive/library_NFBS/NFBS/stx/1mm/ANTSPYmasks'+'/'+zeros+str(i)+'_mask.mnc', ri=False)\n",
        "\n",
        "  \n",
        "\n",
        "\n"
      ],
      "execution_count": null,
      "outputs": [
        {
          "output_type": "stream",
          "text": [
            "\n",
            "  0%|          | 0/25 [00:00<?, ?it/s]\u001b[A\n",
            "  4%|▍         | 1/25 [03:36<1:26:31, 216.29s/it]\u001b[A\n",
            "  8%|▊         | 2/25 [07:17<1:23:31, 217.89s/it]\u001b[A\n",
            " 12%|█▏        | 3/25 [11:03<1:20:45, 220.24s/it]\u001b[A\n",
            " 16%|█▌        | 4/25 [14:35<1:16:13, 217.81s/it]\u001b[A\n",
            " 20%|██        | 5/25 [18:11<1:12:22, 217.14s/it]\u001b[A\n",
            " 24%|██▍       | 6/25 [21:56<1:09:33, 219.65s/it]\u001b[A\n",
            " 28%|██▊       | 7/25 [25:29<1:05:14, 217.46s/it]\u001b[A\n",
            " 32%|███▏      | 8/25 [29:39<1:04:21, 227.16s/it]\u001b[A\n",
            " 36%|███▌      | 9/25 [33:07<59:06, 221.65s/it]  \u001b[A\n",
            " 40%|████      | 10/25 [37:21<57:47, 231.13s/it]\u001b[A\n",
            " 44%|████▍     | 11/25 [41:23<54:44, 234.59s/it]\u001b[A\n",
            " 48%|████▊     | 12/25 [45:02<49:49, 229.92s/it]\u001b[A\n",
            " 52%|█████▏    | 13/25 [48:59<46:24, 232.03s/it]\u001b[A\n",
            " 56%|█████▌    | 14/25 [52:46<42:16, 230.56s/it]\u001b[A\n",
            " 60%|██████    | 15/25 [56:14<37:17, 223.72s/it]\u001b[A\n",
            " 64%|██████▍   | 16/25 [59:56<33:29, 223.23s/it]\u001b[A\n",
            " 68%|██████▊   | 17/25 [1:03:45<29:59, 224.90s/it]\u001b[A\n",
            " 72%|███████▏  | 18/25 [1:07:15<25:42, 220.33s/it]\u001b[A\n",
            " 76%|███████▌  | 19/25 [1:11:24<22:53, 228.96s/it]\u001b[A\n",
            " 80%|████████  | 20/25 [1:15:36<19:39, 235.98s/it]\u001b[A\n",
            " 84%|████████▍ | 21/25 [1:19:38<15:51, 237.78s/it]\u001b[A\n",
            " 88%|████████▊ | 22/25 [1:23:47<12:03, 241.07s/it]\u001b[A\n",
            " 92%|█████████▏| 23/25 [1:27:31<07:51, 235.94s/it]\u001b[A\n",
            " 96%|█████████▌| 24/25 [1:31:13<03:51, 231.76s/it]\u001b[A\n",
            "100%|██████████| 25/25 [1:34:57<00:00, 227.90s/it]\n"
          ],
          "name": "stderr"
        }
      ]
    },
    {
      "cell_type": "code",
      "metadata": {
        "id": "Qq7_Qp-lzz_i"
      },
      "source": [
        "def dice_coefficient(y_true, y_pred, smooth=1):\n",
        "    y_true_f = K.flatten(y_true)\n",
        "    y_pred_f = K.flatten(y_pred)\n",
        "    intersection = K.sum(y_true_f * y_pred_f)\n",
        "    return (2 * intersection + smooth) / (K.sum(y_true_f) + K.sum(y_pred_f) + smooth)"
      ],
      "execution_count": null,
      "outputs": []
    },
    {
      "cell_type": "code",
      "metadata": {
        "id": "ZvKO5YonfsG5"
      },
      "source": [
        "import numpy as np\n",
        "def calculate_slice_all_labels_dice_score(segmentation, truth):\n",
        "    area_sum = np.sum(segmentation) + np.sum(truth)\n",
        "    if area_sum > 0:\n",
        "        return np.sum(segmentation[truth>0])*2.0 / area_sum\n",
        "    else:\n",
        "        return 1"
      ],
      "execution_count": null,
      "outputs": []
    },
    {
      "cell_type": "code",
      "metadata": {
        "id": "RLCidQZBfOfh"
      },
      "source": [
        "def calculate_nifti_all_labels_dice_score(seg_data, truth_data):\n",
        "    z_range = range(seg_data.shape[-1])\n",
        "    z_len = len(z_range)\n",
        "    dice_sum = 0\n",
        "    for z in  z_range:\n",
        "        seg_slice = seg_data[:,:,z]\n",
        "        truth_slice = truth_data[:,:,z]\n",
        "        slice_dice = calculate_slice_all_labels_dice_score(seg_slice, truth_slice)\n",
        "        dice_sum+=slice_dice\n",
        "\n",
        "    return dice_sum / z_len"
      ],
      "execution_count": null,
      "outputs": []
    },
    {
      "cell_type": "code",
      "metadata": {
        "id": "a3eKY9pTaKQr",
        "colab": {
          "base_uri": "https://localhost:8080/",
          "height": 1000
        },
        "outputId": "2d8ca954-7139-4902-cbd6-5a692ebebbcb"
      },
      "source": [
        "from medpy.io import load,save\n",
        "\n",
        "truelabels='/content/drive/My Drive/library_NFBS/NFBS/masks/1mm'\n",
        "pred='/content/drive/My Drive/library_NFBS/NFBS/stx/1mm/ANTSPYmasks'\n",
        "zeros='0000'\n",
        "dice=[]\n",
        "for i in tqdm(range(125)):\n",
        "  if i>9:\n",
        "    zeros='000'\n",
        "  if i>99:\n",
        "    zeros='00'\n",
        "  true,head=load(truelabels+'/'+zeros+str(i)+'.mnc')\n",
        "  pre,h=load(pred+'/'+zeros+str(i)+'_mask.mnc')\n",
        "  dice.append(calculate_nifti_all_labels_dice_score(pre,true))\n"
      ],
      "execution_count": null,
      "outputs": [
        {
          "output_type": "stream",
          "text": [
            "\n",
            "\n",
            "\n",
            "  0%|          | 0/125 [00:00<?, ?it/s]\u001b[A\u001b[A\u001b[A\n",
            "\n",
            "\n",
            "  1%|          | 1/125 [00:00<00:23,  5.24it/s]\u001b[A\u001b[A\u001b[A\n",
            "\n",
            "\n",
            "  2%|▏         | 2/125 [00:00<00:24,  5.09it/s]\u001b[A\u001b[A\u001b[A\n",
            "\n",
            "\n",
            "  2%|▏         | 3/125 [00:00<00:23,  5.09it/s]\u001b[A\u001b[A\u001b[A\n",
            "\n",
            "\n",
            "  3%|▎         | 4/125 [00:00<00:23,  5.12it/s]\u001b[A\u001b[A\u001b[A\n",
            "\n",
            "\n",
            "  4%|▍         | 5/125 [00:00<00:23,  5.20it/s]\u001b[A\u001b[A\u001b[A\n",
            "\n",
            "\n",
            "  5%|▍         | 6/125 [00:01<00:23,  5.16it/s]\u001b[A\u001b[A\u001b[A\n",
            "\n",
            "\n",
            "  6%|▌         | 7/125 [00:01<00:22,  5.26it/s]\u001b[A\u001b[A\u001b[A\n",
            "\n",
            "\n",
            "  6%|▋         | 8/125 [00:01<00:22,  5.15it/s]\u001b[A\u001b[A\u001b[A\n",
            "\n",
            "\n",
            "  7%|▋         | 9/125 [00:01<00:22,  5.22it/s]\u001b[A\u001b[A\u001b[A\n",
            "\n",
            "\n",
            "  8%|▊         | 10/125 [00:01<00:22,  5.16it/s]\u001b[A\u001b[A\u001b[A\n",
            "\n",
            "\n",
            "  9%|▉         | 11/125 [00:02<00:22,  5.12it/s]\u001b[A\u001b[A\u001b[A\n",
            "\n",
            "\n",
            " 10%|▉         | 12/125 [00:02<00:22,  4.99it/s]\u001b[A\u001b[A\u001b[A\n",
            "\n",
            "\n",
            " 10%|█         | 13/125 [00:06<02:37,  1.40s/it]\u001b[A\u001b[A\u001b[A\n",
            "\n",
            "\n",
            " 11%|█         | 14/125 [00:13<05:38,  3.05s/it]\u001b[A\u001b[A\u001b[A\n",
            "\n",
            "\n",
            " 12%|█▏        | 15/125 [01:05<32:24, 17.68s/it]\u001b[A\u001b[A\u001b[A\n",
            "\n",
            "\n",
            " 13%|█▎        | 16/125 [01:08<24:00, 13.22s/it]\u001b[A\u001b[A\u001b[A\n",
            "\n",
            "\n",
            " 14%|█▎        | 17/125 [01:12<19:01, 10.57s/it]\u001b[A\u001b[A\u001b[A\n",
            "\n",
            "\n",
            " 14%|█▍        | 18/125 [01:17<15:46,  8.84s/it]\u001b[A\u001b[A\u001b[A\n",
            "\n",
            "\n",
            " 15%|█▌        | 19/125 [01:20<12:25,  7.04s/it]\u001b[A\u001b[A\u001b[A\n",
            "\n",
            "\n",
            " 16%|█▌        | 20/125 [01:23<10:19,  5.90s/it]\u001b[A\u001b[A\u001b[A\n",
            "\n",
            "\n",
            " 17%|█▋        | 21/125 [01:27<09:26,  5.45s/it]\u001b[A\u001b[A\u001b[A\n",
            "\n",
            "\n",
            " 18%|█▊        | 22/125 [01:32<08:52,  5.17s/it]\u001b[A\u001b[A\u001b[A\n",
            "\n",
            "\n",
            " 18%|█▊        | 23/125 [01:35<07:52,  4.63s/it]\u001b[A\u001b[A\u001b[A\n",
            "\n",
            "\n",
            " 19%|█▉        | 24/125 [01:38<07:07,  4.23s/it]\u001b[A\u001b[A\u001b[A\n",
            "\n",
            "\n",
            " 20%|██        | 25/125 [01:42<06:55,  4.15s/it]\u001b[A\u001b[A\u001b[A\n",
            "\n",
            "\n",
            " 21%|██        | 26/125 [01:43<05:04,  3.07s/it]\u001b[A\u001b[A\u001b[A\n",
            "\n",
            "\n",
            " 22%|██▏       | 27/125 [01:44<03:55,  2.40s/it]\u001b[A\u001b[A\u001b[A\n",
            "\n",
            "\n",
            " 22%|██▏       | 28/125 [01:45<03:15,  2.01s/it]\u001b[A\u001b[A\u001b[A\n",
            "\n",
            "\n",
            " 23%|██▎       | 29/125 [01:46<02:38,  1.65s/it]\u001b[A\u001b[A\u001b[A\n",
            "\n",
            "\n",
            " 24%|██▍       | 30/125 [01:46<02:10,  1.38s/it]\u001b[A\u001b[A\u001b[A\n",
            "\n",
            "\n",
            " 25%|██▍       | 31/125 [01:47<01:54,  1.22s/it]\u001b[A\u001b[A\u001b[A\n",
            "\n",
            "\n",
            " 26%|██▌       | 32/125 [01:48<01:43,  1.11s/it]\u001b[A\u001b[A\u001b[A\n",
            "\n",
            "\n",
            " 26%|██▋       | 33/125 [01:49<01:43,  1.12s/it]\u001b[A\u001b[A\u001b[A\n",
            "\n",
            "\n",
            " 27%|██▋       | 34/125 [01:51<01:44,  1.15s/it]\u001b[A\u001b[A\u001b[A\n",
            "\n",
            "\n",
            " 28%|██▊       | 35/125 [01:52<01:43,  1.15s/it]\u001b[A\u001b[A\u001b[A\n",
            "\n",
            "\n",
            " 29%|██▉       | 36/125 [01:53<01:41,  1.14s/it]\u001b[A\u001b[A\u001b[A\n",
            "\n",
            "\n",
            " 30%|██▉       | 37/125 [01:54<01:37,  1.11s/it]\u001b[A\u001b[A\u001b[A\n",
            "\n",
            "\n",
            " 30%|███       | 38/125 [01:55<01:28,  1.01s/it]\u001b[A\u001b[A\u001b[A\n",
            "\n",
            "\n",
            " 31%|███       | 39/125 [01:55<01:20,  1.07it/s]\u001b[A\u001b[A\u001b[A\n",
            "\n",
            "\n",
            " 32%|███▏      | 40/125 [01:56<01:11,  1.18it/s]\u001b[A\u001b[A\u001b[A\n",
            "\n",
            "\n",
            " 33%|███▎      | 41/125 [01:57<01:18,  1.07it/s]\u001b[A\u001b[A\u001b[A\n",
            "\n",
            "\n",
            " 34%|███▎      | 42/125 [01:58<01:19,  1.04it/s]\u001b[A\u001b[A\u001b[A\n",
            "\n",
            "\n",
            " 34%|███▍      | 43/125 [01:59<01:25,  1.05s/it]\u001b[A\u001b[A\u001b[A\n",
            "\n",
            "\n",
            " 35%|███▌      | 44/125 [02:00<01:10,  1.14it/s]\u001b[A\u001b[A\u001b[A\n",
            "\n",
            "\n",
            " 36%|███▌      | 45/125 [02:00<01:03,  1.26it/s]\u001b[A\u001b[A\u001b[A\n",
            "\n",
            "\n",
            " 37%|███▋      | 46/125 [02:02<01:19,  1.01s/it]\u001b[A\u001b[A\u001b[A\n",
            "\n",
            "\n",
            " 38%|███▊      | 47/125 [02:03<01:09,  1.13it/s]\u001b[A\u001b[A\u001b[A\n",
            "\n",
            "\n",
            " 38%|███▊      | 48/125 [02:04<01:13,  1.04it/s]\u001b[A\u001b[A\u001b[A\n",
            "\n",
            "\n",
            " 39%|███▉      | 49/125 [02:04<01:03,  1.19it/s]\u001b[A\u001b[A\u001b[A\n",
            "\n",
            "\n",
            " 40%|████      | 50/125 [02:05<01:08,  1.10it/s]\u001b[A\u001b[A\u001b[A\n",
            "\n",
            "\n",
            " 41%|████      | 51/125 [02:06<01:08,  1.07it/s]\u001b[A\u001b[A\u001b[A\n",
            "\n",
            "\n",
            " 42%|████▏     | 52/125 [02:07<01:04,  1.13it/s]\u001b[A\u001b[A\u001b[A\n",
            "\n",
            "\n",
            " 42%|████▏     | 53/125 [02:08<00:58,  1.23it/s]\u001b[A\u001b[A\u001b[A\n",
            "\n",
            "\n",
            " 43%|████▎     | 54/125 [02:09<00:56,  1.25it/s]\u001b[A\u001b[A\u001b[A\n",
            "\n",
            "\n",
            " 44%|████▍     | 55/125 [02:09<00:58,  1.21it/s]\u001b[A\u001b[A\u001b[A\n",
            "\n",
            "\n",
            " 45%|████▍     | 56/125 [02:10<00:57,  1.19it/s]\u001b[A\u001b[A\u001b[A\n",
            "\n",
            "\n",
            " 46%|████▌     | 57/125 [02:11<00:58,  1.17it/s]\u001b[A\u001b[A\u001b[A\n",
            "\n",
            "\n",
            " 46%|████▋     | 58/125 [02:12<01:01,  1.09it/s]\u001b[A\u001b[A\u001b[A\n",
            "\n",
            "\n",
            " 47%|████▋     | 59/125 [02:13<00:57,  1.14it/s]\u001b[A\u001b[A\u001b[A\n",
            "\n",
            "\n",
            " 48%|████▊     | 60/125 [02:15<01:09,  1.07s/it]\u001b[A\u001b[A\u001b[A\n",
            "\n",
            "\n",
            " 49%|████▉     | 61/125 [02:16<01:08,  1.07s/it]\u001b[A\u001b[A\u001b[A\n",
            "\n",
            "\n",
            " 50%|████▉     | 62/125 [02:17<01:05,  1.04s/it]\u001b[A\u001b[A\u001b[A\n",
            "\n",
            "\n",
            " 50%|█████     | 63/125 [02:18<01:05,  1.06s/it]\u001b[A\u001b[A\u001b[A\n",
            "\n",
            "\n",
            " 51%|█████     | 64/125 [02:18<00:57,  1.07it/s]\u001b[A\u001b[A\u001b[A\n",
            "\n",
            "\n",
            " 52%|█████▏    | 65/125 [02:19<00:56,  1.06it/s]\u001b[A\u001b[A\u001b[A\n",
            "\n",
            "\n",
            " 53%|█████▎    | 66/125 [02:20<00:52,  1.12it/s]\u001b[A\u001b[A\u001b[A\n",
            "\n",
            "\n",
            " 54%|█████▎    | 67/125 [02:21<00:53,  1.08it/s]\u001b[A\u001b[A\u001b[A\n",
            "\n",
            "\n",
            " 54%|█████▍    | 68/125 [02:22<00:54,  1.06it/s]\u001b[A\u001b[A\u001b[A\n",
            "\n",
            "\n",
            " 55%|█████▌    | 69/125 [02:23<00:59,  1.07s/it]\u001b[A\u001b[A\u001b[A\n",
            "\n",
            "\n",
            " 56%|█████▌    | 70/125 [02:25<01:03,  1.16s/it]\u001b[A\u001b[A\u001b[A\n",
            "\n",
            "\n",
            " 57%|█████▋    | 71/125 [02:25<00:53,  1.00it/s]\u001b[A\u001b[A\u001b[A\n",
            "\n",
            "\n",
            " 58%|█████▊    | 72/125 [02:26<00:50,  1.05it/s]\u001b[A\u001b[A\u001b[A\n",
            "\n",
            "\n",
            " 58%|█████▊    | 73/125 [02:27<00:43,  1.19it/s]\u001b[A\u001b[A\u001b[A\n",
            "\n",
            "\n",
            " 59%|█████▉    | 74/125 [02:28<00:45,  1.11it/s]\u001b[A\u001b[A\u001b[A\n",
            "\n",
            "\n",
            " 60%|██████    | 75/125 [02:29<00:46,  1.07it/s]\u001b[A\u001b[A\u001b[A\n",
            "\n",
            "\n",
            " 61%|██████    | 76/125 [02:30<00:43,  1.12it/s]\u001b[A\u001b[A\u001b[A\n",
            "\n",
            "\n",
            " 62%|██████▏   | 77/125 [02:30<00:37,  1.26it/s]\u001b[A\u001b[A\u001b[A\n",
            "\n",
            "\n",
            " 62%|██████▏   | 78/125 [02:32<00:43,  1.07it/s]\u001b[A\u001b[A\u001b[A\n",
            "\n",
            "\n",
            " 63%|██████▎   | 79/125 [02:32<00:41,  1.10it/s]\u001b[A\u001b[A\u001b[A\n",
            "\n",
            "\n",
            " 64%|██████▍   | 80/125 [02:34<00:44,  1.02it/s]\u001b[A\u001b[A\u001b[A\n",
            "\n",
            "\n",
            " 65%|██████▍   | 81/125 [02:34<00:40,  1.10it/s]\u001b[A\u001b[A\u001b[A\n",
            "\n",
            "\n",
            " 66%|██████▌   | 82/125 [02:35<00:41,  1.04it/s]\u001b[A\u001b[A\u001b[A\n",
            "\n",
            "\n",
            " 66%|██████▋   | 83/125 [02:36<00:37,  1.13it/s]\u001b[A\u001b[A\u001b[A\n",
            "\n",
            "\n",
            " 67%|██████▋   | 84/125 [02:37<00:36,  1.14it/s]\u001b[A\u001b[A\u001b[A\n",
            "\n",
            "\n",
            " 68%|██████▊   | 85/125 [02:38<00:38,  1.04it/s]\u001b[A\u001b[A\u001b[A\n",
            "\n",
            "\n",
            " 69%|██████▉   | 86/125 [02:39<00:38,  1.01it/s]\u001b[A\u001b[A\u001b[A\n",
            "\n",
            "\n",
            " 70%|██████▉   | 87/125 [02:40<00:40,  1.05s/it]\u001b[A\u001b[A\u001b[A\n",
            "\n",
            "\n",
            " 70%|███████   | 88/125 [02:41<00:35,  1.04it/s]\u001b[A\u001b[A\u001b[A\n",
            "\n",
            "\n",
            " 71%|███████   | 89/125 [02:42<00:32,  1.10it/s]\u001b[A\u001b[A\u001b[A\n",
            "\n",
            "\n",
            " 72%|███████▏  | 90/125 [02:43<00:29,  1.19it/s]\u001b[A\u001b[A\u001b[A\n",
            "\n",
            "\n",
            " 73%|███████▎  | 91/125 [02:44<00:32,  1.05it/s]\u001b[A\u001b[A\u001b[A\n",
            "\n",
            "\n",
            " 74%|███████▎  | 92/125 [02:45<00:32,  1.02it/s]\u001b[A\u001b[A\u001b[A\n",
            "\n",
            "\n",
            " 74%|███████▍  | 93/125 [02:46<00:30,  1.04it/s]\u001b[A\u001b[A\u001b[A\n",
            "\n",
            "\n",
            " 75%|███████▌  | 94/125 [02:47<00:30,  1.01it/s]\u001b[A\u001b[A\u001b[A\n",
            "\n",
            "\n",
            " 76%|███████▌  | 95/125 [02:48<00:28,  1.05it/s]\u001b[A\u001b[A\u001b[A\n",
            "\n",
            "\n",
            " 77%|███████▋  | 96/125 [02:49<00:27,  1.04it/s]\u001b[A\u001b[A\u001b[A\n",
            "\n",
            "\n",
            " 78%|███████▊  | 97/125 [02:49<00:23,  1.17it/s]\u001b[A\u001b[A\u001b[A\n",
            "\n",
            "\n",
            " 78%|███████▊  | 98/125 [02:50<00:21,  1.28it/s]\u001b[A\u001b[A\u001b[A\n",
            "\n",
            "\n",
            " 79%|███████▉  | 99/125 [02:51<00:20,  1.27it/s]\u001b[A\u001b[A\u001b[A\n",
            "\n",
            "\n",
            " 80%|████████  | 100/125 [02:52<00:21,  1.16it/s]\u001b[A\u001b[A\u001b[A\n",
            "\n",
            "\n",
            " 81%|████████  | 101/125 [02:53<00:21,  1.10it/s]\u001b[A\u001b[A\u001b[A\n",
            "\n",
            "\n",
            " 82%|████████▏ | 102/125 [02:53<00:18,  1.24it/s]\u001b[A\u001b[A\u001b[A\n",
            "\n",
            "\n",
            " 82%|████████▏ | 103/125 [02:54<00:16,  1.31it/s]\u001b[A\u001b[A\u001b[A\n",
            "\n",
            "\n",
            " 83%|████████▎ | 104/125 [02:55<00:16,  1.24it/s]\u001b[A\u001b[A\u001b[A\n",
            "\n",
            "\n",
            " 84%|████████▍ | 105/125 [02:56<00:16,  1.19it/s]\u001b[A\u001b[A\u001b[A\n",
            "\n",
            "\n",
            " 85%|████████▍ | 106/125 [02:57<00:15,  1.23it/s]\u001b[A\u001b[A\u001b[A\n",
            "\n",
            "\n",
            " 86%|████████▌ | 107/125 [02:58<00:15,  1.14it/s]\u001b[A\u001b[A\u001b[A\n",
            "\n",
            "\n",
            " 86%|████████▋ | 108/125 [02:58<00:13,  1.22it/s]\u001b[A\u001b[A\u001b[A\n",
            "\n",
            "\n",
            " 87%|████████▋ | 109/125 [02:59<00:11,  1.36it/s]\u001b[A\u001b[A\u001b[A\n",
            "\n",
            "\n",
            " 88%|████████▊ | 110/125 [03:00<00:13,  1.09it/s]\u001b[A\u001b[A\u001b[A\n",
            "\n",
            "\n",
            " 89%|████████▉ | 111/125 [03:01<00:13,  1.05it/s]\u001b[A\u001b[A\u001b[A\n",
            "\n",
            "\n",
            " 90%|████████▉ | 112/125 [03:02<00:13,  1.01s/it]\u001b[A\u001b[A\u001b[A\n",
            "\n",
            "\n",
            " 90%|█████████ | 113/125 [03:03<00:12,  1.04s/it]\u001b[A\u001b[A\u001b[A\n",
            "\n",
            "\n",
            " 91%|█████████ | 114/125 [03:04<00:11,  1.05s/it]\u001b[A\u001b[A\u001b[A\n",
            "\n",
            "\n",
            " 92%|█████████▏| 115/125 [03:05<00:10,  1.04s/it]\u001b[A\u001b[A\u001b[A\n",
            "\n",
            "\n",
            " 93%|█████████▎| 116/125 [03:07<00:09,  1.07s/it]\u001b[A\u001b[A\u001b[A\n",
            "\n",
            "\n",
            " 94%|█████████▎| 117/125 [03:08<00:08,  1.04s/it]\u001b[A\u001b[A\u001b[A\n",
            "\n",
            "\n",
            " 94%|█████████▍| 118/125 [03:09<00:07,  1.03s/it]\u001b[A\u001b[A\u001b[A\n",
            "\n",
            "\n",
            " 95%|█████████▌| 119/125 [03:10<00:06,  1.14s/it]\u001b[A\u001b[A\u001b[A\n",
            "\n",
            "\n",
            " 96%|█████████▌| 120/125 [03:11<00:05,  1.16s/it]\u001b[A\u001b[A\u001b[A\n",
            "\n",
            "\n",
            " 97%|█████████▋| 121/125 [03:13<00:05,  1.41s/it]\u001b[A\u001b[A\u001b[A\n",
            "\n",
            "\n",
            " 98%|█████████▊| 122/125 [03:14<00:04,  1.37s/it]\u001b[A\u001b[A\u001b[A\n",
            "\n",
            "\n",
            " 98%|█████████▊| 123/125 [03:16<00:02,  1.28s/it]\u001b[A\u001b[A\u001b[A\n",
            "\n",
            "\n",
            " 99%|█████████▉| 124/125 [03:17<00:01,  1.21s/it]\u001b[A\u001b[A\u001b[A\n",
            "\n",
            "\n",
            "100%|██████████| 125/125 [03:18<00:00,  1.59s/it]\n"
          ],
          "name": "stderr"
        }
      ]
    },
    {
      "cell_type": "code",
      "metadata": {
        "id": "7Z3jfU_UcJzQ",
        "colab": {
          "base_uri": "https://localhost:8080/",
          "height": 55
        },
        "outputId": "3a8dbfd4-1d04-4c13-bc47-4a830f2f4bb7"
      },
      "source": [
        "print(dice)"
      ],
      "execution_count": null,
      "outputs": [
        {
          "output_type": "stream",
          "text": [
            "[0.7012908635304204, 0.7187567395283638, 0.7243556777942719, 0.6338193409974153, 0.7129411502060583, 0.7121339273426629, 0.7058512613681163, 0.7066120671354531, 0.7144535492341216, 0.7281471352961965, 0.7074989920833747, 0.694097529883921, 0.6894123840568354, 0.7194799709594499, 0.6488553848525979, 0.7002620907690971, 0.7237053461820653, 0.7095836102962082, 0.6517562948500879, 0.6045787274737935, 0.7256748858632948, 0.7256949740205783, 0.7045059236510482, 0.7220641134608724, 0.7175484960283852, 0.7277014485586581, 0.7093396202440111, 0.6762195048430337, 0.7295698199063497, 0.7206068442514724, 0.7354125860640164, 0.7332682951709317, 0.7085146303296151, 0.7202418369366119, 0.6791144119977355, 0.6778678656356574, 0.7357336313772225, 0.7079763797026593, 0.6723593089836355, 0.6958416573188282, 0.7161752565017945, 0.7143945765830364, 0.6812217215038594, 0.7348087622359974, 0.7623929678037932, 0.7143154441897275, 0.7031733867172156, 0.7249904669411943, 0.7116201217679319, 0.7379184924070421, 0.7144042242811857, 0.7064451558559806, 0.6920229272235793, 0.7180598589285162, 0.6618625151300238, 0.7189561575439378, 0.7022596583891533, 0.6974408642715881, 0.7240430712851735, 0.7554505739951399, 0.7220219820446269, 0.7369997434471645, 0.7100141472118702, 0.7202166282350689, 0.7117322137788602, 0.6284117633657639, 0.7309703301009282, 0.7127708782345142, 0.6709797194831807, 0.7463813542659259, 0.705361909169908, 0.7173634061754337, 0.7175574985369378, 0.690592959243438, 0.7216648982290412, 0.7088594387880806, 0.6884999365071872, 0.6914361609018371, 0.7272057537013625, 0.7106266590686972, 0.7217820342431976, 0.7302280082109265, 0.6563586208469702, 0.7496228793940937, 0.6880873447265384, 0.7255414288311037, 0.7181606413043831, 0.7115404095583857, 0.7345017035862378, 0.707811041361568, 0.7406662844495246, 0.7138567654132374, 0.7330084152404819, 0.7114379798846505, 0.7263455555832987, 0.7232132146821896, 0.7307206401599337, 0.7120173511902727, 0.7330148799188402, 0.7238791701234611, 0.6674656207279239, 0.6499803446402659, 0.7351650287508159, 0.6654402042952965, 0.6813882695108594, 0.7179573691483352, 0.6071311615217211, 0.6966844172424213, 0.7037392720169131, 0.7113950856377833, 0.729952011569404, 0.7297872474296389, 0.7321059820086705, 0.6623729627661565, 0.6303557013801532, 0.7155134823955657, 0.7261703388164127, 0.6568214316925979, 0.7207368401264029, 0.6259651479904811, 0.7121069949786218, 0.7110377218658162, 0.7778169522887229, 0.7369781550130177, 0.7196334183129162]\n"
          ],
          "name": "stdout"
        }
      ]
    },
    {
      "cell_type": "code",
      "metadata": {
        "id": "_3pxKDOuhikV",
        "colab": {
          "base_uri": "https://localhost:8080/",
          "height": 35
        },
        "outputId": "45d5ade2-8ffc-440b-f17b-8cde36efa6ee"
      },
      "source": [
        "avg=0\n",
        "for i in dice:\n",
        "  avg=avg+i\n",
        "ans=avg/125\n",
        "print(ans)"
      ],
      "execution_count": null,
      "outputs": [
        {
          "output_type": "stream",
          "text": [
            "0.7072797391445367\n"
          ],
          "name": "stdout"
        }
      ]
    },
    {
      "cell_type": "code",
      "metadata": {
        "id": "4K1j_-Vdh54f"
      },
      "source": [
        ""
      ],
      "execution_count": null,
      "outputs": []
    }
  ]
}